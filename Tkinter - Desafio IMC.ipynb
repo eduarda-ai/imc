{
 "cells": [
  {
   "cell_type": "markdown",
   "id": "b88f4fa7-3792-442a-951b-efcad1f64de4",
   "metadata": {},
   "source": [
    "# <font color='OrangeRed'><center>Desafio 01 - Tkinter</center></font>"
   ]
  },
  {
   "cell_type": "markdown",
   "id": "78b3c916-1770-4412-8407-f1498a3e9933",
   "metadata": {
    "tags": []
   },
   "source": [
    "### Execute as etapas abaixo para criar uma programa que calcule o IMC:\n",
    "\n",
    "1. Importe a biblioteca **tkinter**.\n",
    "1. Crie uma label com o título **Cálculo de IMC**.\n",
    "1. Crie uma label com o texto **Digite o seu Peso**.\n",
    "1. Utilizando o método Entry, crie uma entrada de texto para receber o peso do usuário.\n",
    "1. Crie uma label com o texto **Digite a sua Altura**.\n",
    "1. Utilizando o método Entry, crie uma entrada de texto para receber a altura do usuário.\n",
    "1. Crie uma função chamada **calcular** para calcular o IMC do usuário:\n",
    "    * A função deve ser criada no início do programa\n",
    "    * A formúla do IMC é: **Peso / (Altura*Altura)**\n",
    "1. Utilizando o método Button, crie um botão com os parâmentros abaixo:\n",
    "    * Insira o texto **Calcular** para o parâmetro **text**.\n",
    "    * Insira a função **calcular** para o parâmetro **command**.\n",
    "1. Crie uma label sem texto que receberá o resultado do cálculo do IMC quando o botão for acionado.\n",
    "\n",
    "----\n",
    "\n",
    "**Resultado esperado**:  \n",
    "<img src='tkinter_desafio_imc1.png'> <img src='tkinter_desafio_imc2.png'>  \n",
    "_*Não precisa ficar igual_  \n",
    "\n",
    "---"
   ]
  },
  {
   "cell_type": "code",
   "execution_count": 4,
   "id": "fb9c3fd4-0b13-4834-8751-6418e98c6956",
   "metadata": {},
   "outputs": [],
   "source": [
    "import tkinter\n",
    "\n",
    "\n",
    "app= tkinter.Tk()\n",
    "\n",
    "app.configure(bg=\"#FFC0CB\")\n",
    "\n",
    "app.title(\"Cálculo de IMC\")\n",
    "\n",
    "app.geometry(\"400x400\")\n",
    "\n",
    "\n",
    "\n",
    "txt_titulo1 = tkinter.Label(app, text=\"Digite seu Peso\", bg=\"#FFC0CB\")\n",
    "txt_titulo1.grid(column=0, row=0, columnspan=3, padx=50, pady=5,)\n",
    "\n",
    "peso = tkinter.Entry(app)\n",
    "peso.grid(column=1, row=1)\n",
    "\n",
    "\n",
    "txt_titulo2 = tkinter.Label(app, text=\"Digite seu Altura\", bg=\"#FFC0CB\")\n",
    "txt_titulo2.grid(column=0, row=2, columnspan=3, padx=50, pady=5,)\n",
    "\n",
    "altura= tkinter.Entry(app)\n",
    "altura.grid(column=1, row=3)\n",
    "\n",
    "\n",
    "def acao():\n",
    "    v1= float(peso.get())\n",
    "    v2=float(altura.get())\n",
    "\n",
    "    calculo = v1/(v2*v2)\n",
    "\n",
    "    txt_resultado.configure(text=f\"={calculo:.2f}\")\n",
    "\n",
    "    \n",
    "\n",
    "\n",
    "botao = tkinter.Button(app, text=\"Somar\", command=acao, width=15, fg=\"white\", bg=\"#FFC0CB\")\n",
    "botao.grid(column=1, row=6, pady=10)\n",
    "\n",
    "txt_resultado = tkinter.Label(app, text=\"\", bg=\"#FFC0CB\")\n",
    "txt_resultado.grid(column=5, row=2)\n",
    "\n",
    "\n",
    "\n",
    "\n",
    "app.mainloop()"
   ]
  }
 ],
 "metadata": {
  "kernelspec": {
   "display_name": "Python 3",
   "language": "python",
   "name": "python3"
  },
  "language_info": {
   "codemirror_mode": {
    "name": "ipython",
    "version": 3
   },
   "file_extension": ".py",
   "mimetype": "text/x-python",
   "name": "python",
   "nbconvert_exporter": "python",
   "pygments_lexer": "ipython3",
   "version": "3.12.0"
  }
 },
 "nbformat": 4,
 "nbformat_minor": 5
}
